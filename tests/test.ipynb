{
 "cells": [
  {
   "cell_type": "code",
   "execution_count": 1,
   "metadata": {},
   "outputs": [],
   "source": [
    "import lumber as lb"
   ]
  },
  {
   "cell_type": "code",
   "execution_count": 2,
   "metadata": {},
   "outputs": [],
   "source": [
    "dt = lb.CategoricalDecisionTreeClassifier()\n",
    "X = [\n",
    "    [1, 2, 3],\n",
    "    [1,2,1],\n",
    "]\n",
    "y = [\n",
    "    \"a\",\n",
    "    \"b\"\n",
    "]\n",
    "dt.fit(X=X,y=y)"
   ]
  },
  {
   "cell_type": "code",
   "execution_count": 3,
   "metadata": {},
   "outputs": [
    {
     "data": {
      "image/svg+xml": [
       "<svg width=\"292.0\" height=\"260\" xmlns=\"http://www.w3.org/2000/svg\"><rect width=\"100%\" height=\"100%\" fill=\"white\"/><svg xmlns=\"http://www.w3.org/2000/svg\" viewBox=\"0 0 160 260\" width=\"160\" height=\"260\"><svg y=\"140\" x=\"0\" xmlns=\"http://www.w3.org/2000/svg\" viewBox=\"0 0 80 120\" width=\"80\" height=\"120\"  ><text x=\"40\" y=\"10\" font-family=\"Arial, Helvetica, sans-serif\" dominant-baseline=\"central\" text-anchor=\"middle\">1</text><circle cx=\"40\" cy=\"50\" r=\"30\" fill=\"hsl(234, 67%, 61%)\"/><circle cx=\"40\" cy=\"50\" r=\"27.0\" fill=\"hsl(0,0%,100%)\"/><circle cx=\"40\" cy=\"50\" r=\"25.5\" fill=\"hsl(234, 67%, 61%)\"/><circle cx=\"40\" cy=\"50\" r=\"18.0\" fill=\"hsl(0,0%,100%)\"/><text x=\"40\" y=\"50\" font-family=\"Arial, Helvetica, sans-serif\" dominant-baseline=\"central\" text-anchor=\"middle\">1</text></svg><line stroke=\"#444444\" stroke-width=\"2\" x1=\"80.0\" y1=\"100\" x2=\"40.0\" y2=\"140\"/>\n",
       "<svg y=\"140\" x=\"80\" xmlns=\"http://www.w3.org/2000/svg\" viewBox=\"0 0 80 120\" width=\"80\" height=\"120\"  ><text x=\"40\" y=\"10\" font-family=\"Arial, Helvetica, sans-serif\" dominant-baseline=\"central\" text-anchor=\"middle\">3</text><circle cx=\"40\" cy=\"50\" r=\"30\" fill=\"hsl(25, 67%, 61%)\"/><circle cx=\"40\" cy=\"50\" r=\"27.0\" fill=\"hsl(0,0%,100%)\"/><circle cx=\"40\" cy=\"50\" r=\"25.5\" fill=\"hsl(25, 67%, 61%)\"/><circle cx=\"40\" cy=\"50\" r=\"18.0\" fill=\"hsl(0,0%,100%)\"/><text x=\"40\" y=\"50\" font-family=\"Arial, Helvetica, sans-serif\" dominant-baseline=\"central\" text-anchor=\"middle\">1</text></svg><line stroke=\"#444444\" stroke-width=\"2\" x1=\"80.0\" y1=\"100\" x2=\"120.0\" y2=\"140\"/>\n",
       "<svg xmlns=\"http://www.w3.org/2000/svg\" viewBox=\"0 0 80 120\" width=\"80\" height=\"120\" x=\"40.0\" ><circle cx=\"40\" cy=\"50\" r=\"30\" fill=\"hsl(25, 67%, 61%)\"/><circle cx=\"40\" cy=\"50\" r=\"27.0\" fill=\"hsl(0,0%,100%)\"/><path d=\"M40,50 L40.0,24.5 A25.5,25.5 0 0,1 40.0,75.5 z\" fill=\"hsl(25, 67%, 61%)\" stroke=\"hsl(25, 67%, 61%)\" stroke-width=\"0.1\"/><path d=\"M40,50 L40.0,75.5 A25.5,25.5 0 0,1 40.0,24.5 z\" fill=\"hsl(234, 67%, 61%)\" stroke=\"hsl(234, 67%, 61%)\" stroke-width=\"0.1\"/><circle cx=\"40\" cy=\"50\" r=\"18.0\" fill=\"hsl(0,0%,100%)\"/><text x=\"40\" y=\"50\" font-family=\"Arial, Helvetica, sans-serif\" dominant-baseline=\"central\" text-anchor=\"middle\">2</text><text x=\"40\" y=\"90\" font-family=\"Arial, Helvetica, sans-serif\" dominant-baseline=\"central\" text-anchor=\"middle\">2</text></svg></svg><svg width=\"152\" height=\"42\" x=\"130.0\" y=\"10\" xmlns=\"http://www.w3.org/2000/svg\"><svg width=\"152\" height=\"42\" xmlns=\"http://www.w3.org/2000/svg\">\n",
       "        <rect rx=\"5\" ry=\"5\" width=\"150\" height=\"40\" x=\"1\" y=\"1\" stroke=\"#AAAAAA\" stroke-width=\"2\" fill=\"white\"/><line stroke=\"hsl(25, 67%, 61%)\" stroke-width=\"2.5\" x1=\"10\" x2=\"30\" y1=\"10\" y2=\"10\"/><text x=\"35\" y=\"10\" font-family=\"Arial, Helvetica, sans-serif\" dominant-baseline=\"central\">a</text><line stroke=\"hsl(234, 67%, 61%)\" stroke-width=\"2.5\" x1=\"10\" x2=\"30\" y1=\"30\" y2=\"30\"/><text x=\"35\" y=\"30\" font-family=\"Arial, Helvetica, sans-serif\" dominant-baseline=\"central\">b</text></svg></svg></svg>"
      ],
      "text/plain": [
       "<lumber.categorical_decision_tree_classifier.CategoricalDecisionTreeClassifier at 0x7fe082253b50>"
      ]
     },
     "execution_count": 3,
     "metadata": {},
     "output_type": "execute_result"
    }
   ],
   "source": [
    "dt"
   ]
  }
 ],
 "metadata": {
  "kernelspec": {
   "display_name": "37test",
   "language": "python",
   "name": "python3"
  },
  "language_info": {
   "codemirror_mode": {
    "name": "ipython",
    "version": 3
   },
   "file_extension": ".py",
   "mimetype": "text/x-python",
   "name": "python",
   "nbconvert_exporter": "python",
   "pygments_lexer": "ipython3",
   "version": "3.7.16"
  },
  "orig_nbformat": 4
 },
 "nbformat": 4,
 "nbformat_minor": 2
}
